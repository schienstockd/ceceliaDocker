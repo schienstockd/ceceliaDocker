{
 "cells": [
  {
   "cell_type": "code",
   "execution_count": 2,
   "id": "569d2056",
   "metadata": {},
   "outputs": [
    {
     "ename": "NameError",
     "evalue": "name '__file__' is not defined",
     "output_type": "error",
     "traceback": [
      "\u001b[0;31m---------------------------------------------------------------------------\u001b[0m",
      "\u001b[0;31mNameError\u001b[0m                                 Traceback (most recent call last)",
      "Cell \u001b[0;32mIn [2], line 2\u001b[0m\n\u001b[1;32m      1\u001b[0m \u001b[38;5;66;03m# get directories for jupyter files\u001b[39;00m\n\u001b[0;32m----> 2\u001b[0m dir_name \u001b[38;5;241m=\u001b[39m \u001b[38;5;18;43m__file__\u001b[39;49m\n",
      "\u001b[0;31mNameError\u001b[0m: name '__file__' is not defined"
     ]
    }
   ],
   "source": []
  },
  {
   "cell_type": "code",
   "execution_count": 4,
   "id": "1a87b6b3",
   "metadata": {},
   "outputs": [],
   "source": [
    "import os\n",
    "\n",
    "# get directories for jupyter files\n",
    "dir_name = __file__\n",
    "#dir_name = \"/Users/schiend/Desktop/DOHERTY/R-workspace/ceceliaDocker\"\n",
    "conn_file = os.path.join(dir_name, 'datashare', 'connectionFile.json')\n",
    "debug_file = os.path.join(dir_name, 'datashare', 'connectionFile.debug.json')"
   ]
  },
  {
   "cell_type": "code",
   "execution_count": null,
   "id": "1af0b1b8",
   "metadata": {},
   "outputs": [],
   "source": [
    "# remove connection file for IPython kernel\n",
    "os.remove(conn_file)"
   ]
  },
  {
   "cell_type": "code",
   "execution_count": 6,
   "id": "8ce41c81",
   "metadata": {},
   "outputs": [
    {
     "ename": "MultipleInstanceError",
     "evalue": "An incompatible sibling of 'TerminalIPythonApp' is already instanciated as singleton: IPKernelApp",
     "output_type": "error",
     "traceback": [
      "\u001b[0;31m---------------------------------------------------------------------------\u001b[0m",
      "\u001b[0;31mMultipleInstanceError\u001b[0m                     Traceback (most recent call last)",
      "Cell \u001b[0;32mIn [6], line 4\u001b[0m\n\u001b[1;32m      1\u001b[0m \u001b[38;5;66;03m# start ipython kernel\u001b[39;00m\n\u001b[1;32m      2\u001b[0m \u001b[38;5;28;01mimport\u001b[39;00m \u001b[38;5;21;01mIPython\u001b[39;00m\n\u001b[0;32m----> 4\u001b[0m \u001b[43mIPython\u001b[49m\u001b[38;5;241;43m.\u001b[39;49m\u001b[43mstart_ipython\u001b[49m\u001b[43m(\u001b[49m\u001b[43margv\u001b[49m\u001b[38;5;241;43m=\u001b[39;49m\u001b[43m[\u001b[49m\u001b[38;5;124;43mf\u001b[39;49m\u001b[38;5;124;43m'\u001b[39;49m\u001b[38;5;124;43m-f \u001b[39;49m\u001b[38;5;132;43;01m{\u001b[39;49;00m\u001b[43mconn_file\u001b[49m\u001b[38;5;132;43;01m}\u001b[39;49;00m\u001b[38;5;124;43m'\u001b[39;49m\u001b[43m]\u001b[49m\u001b[43m)\u001b[49m\n",
      "File \u001b[0;32m~/opt/anaconda3/envs/r-cecelia-gui-env/lib/python3.9/site-packages/IPython/__init__.py:123\u001b[0m, in \u001b[0;36mstart_ipython\u001b[0;34m(argv, **kwargs)\u001b[0m\n\u001b[1;32m     99\u001b[0m \u001b[38;5;124;03m\"\"\"Launch a normal IPython instance (as opposed to embedded)\u001b[39;00m\n\u001b[1;32m    100\u001b[0m \n\u001b[1;32m    101\u001b[0m \u001b[38;5;124;03m`IPython.embed()` puts a shell in a particular calling scope,\u001b[39;00m\n\u001b[0;32m   (...)\u001b[0m\n\u001b[1;32m    120\u001b[0m \u001b[38;5;124;03m    such as `config`.\u001b[39;00m\n\u001b[1;32m    121\u001b[0m \u001b[38;5;124;03m\"\"\"\u001b[39;00m\n\u001b[1;32m    122\u001b[0m \u001b[38;5;28;01mfrom\u001b[39;00m \u001b[38;5;21;01mIPython\u001b[39;00m\u001b[38;5;21;01m.\u001b[39;00m\u001b[38;5;21;01mterminal\u001b[39;00m\u001b[38;5;21;01m.\u001b[39;00m\u001b[38;5;21;01mipapp\u001b[39;00m \u001b[38;5;28;01mimport\u001b[39;00m launch_new_instance\n\u001b[0;32m--> 123\u001b[0m \u001b[38;5;28;01mreturn\u001b[39;00m \u001b[43mlaunch_new_instance\u001b[49m\u001b[43m(\u001b[49m\u001b[43margv\u001b[49m\u001b[38;5;241;43m=\u001b[39;49m\u001b[43margv\u001b[49m\u001b[43m,\u001b[49m\u001b[43m \u001b[49m\u001b[38;5;241;43m*\u001b[39;49m\u001b[38;5;241;43m*\u001b[39;49m\u001b[43mkwargs\u001b[49m\u001b[43m)\u001b[49m\n",
      "File \u001b[0;32m~/opt/anaconda3/envs/r-cecelia-gui-env/lib/python3.9/site-packages/traitlets/config/application.py:980\u001b[0m, in \u001b[0;36mApplication.launch_instance\u001b[0;34m(cls, argv, **kwargs)\u001b[0m\n\u001b[1;32m    974\u001b[0m \u001b[38;5;129m@classmethod\u001b[39m\n\u001b[1;32m    975\u001b[0m \u001b[38;5;28;01mdef\u001b[39;00m \u001b[38;5;21mlaunch_instance\u001b[39m(\u001b[38;5;28mcls\u001b[39m, argv\u001b[38;5;241m=\u001b[39m\u001b[38;5;28;01mNone\u001b[39;00m, \u001b[38;5;241m*\u001b[39m\u001b[38;5;241m*\u001b[39mkwargs):\n\u001b[1;32m    976\u001b[0m     \u001b[38;5;124;03m\"\"\"Launch a global instance of this Application\u001b[39;00m\n\u001b[1;32m    977\u001b[0m \n\u001b[1;32m    978\u001b[0m \u001b[38;5;124;03m    If a global instance already exists, this reinitializes and starts it\u001b[39;00m\n\u001b[1;32m    979\u001b[0m \u001b[38;5;124;03m    \"\"\"\u001b[39;00m\n\u001b[0;32m--> 980\u001b[0m     app \u001b[38;5;241m=\u001b[39m \u001b[38;5;28;43mcls\u001b[39;49m\u001b[38;5;241;43m.\u001b[39;49m\u001b[43minstance\u001b[49m\u001b[43m(\u001b[49m\u001b[38;5;241;43m*\u001b[39;49m\u001b[38;5;241;43m*\u001b[39;49m\u001b[43mkwargs\u001b[49m\u001b[43m)\u001b[49m\n\u001b[1;32m    981\u001b[0m     app\u001b[38;5;241m.\u001b[39minitialize(argv)\n\u001b[1;32m    982\u001b[0m     app\u001b[38;5;241m.\u001b[39mstart()\n",
      "File \u001b[0;32m~/opt/anaconda3/envs/r-cecelia-gui-env/lib/python3.9/site-packages/traitlets/config/configurable.py:560\u001b[0m, in \u001b[0;36mSingletonConfigurable.instance\u001b[0;34m(cls, *args, **kwargs)\u001b[0m\n\u001b[1;32m    558\u001b[0m     \u001b[38;5;28;01mreturn\u001b[39;00m \u001b[38;5;28mcls\u001b[39m\u001b[38;5;241m.\u001b[39m_instance\n\u001b[1;32m    559\u001b[0m \u001b[38;5;28;01melse\u001b[39;00m:\n\u001b[0;32m--> 560\u001b[0m     \u001b[38;5;28;01mraise\u001b[39;00m MultipleInstanceError(\n\u001b[1;32m    561\u001b[0m         \u001b[38;5;124m\"\u001b[39m\u001b[38;5;124mAn incompatible sibling of \u001b[39m\u001b[38;5;124m'\u001b[39m\u001b[38;5;132;01m%s\u001b[39;00m\u001b[38;5;124m'\u001b[39m\u001b[38;5;124m is already instanciated\u001b[39m\u001b[38;5;124m\"\u001b[39m\n\u001b[1;32m    562\u001b[0m         \u001b[38;5;124m\"\u001b[39m\u001b[38;5;124m as singleton: \u001b[39m\u001b[38;5;132;01m%s\u001b[39;00m\u001b[38;5;124m\"\u001b[39m \u001b[38;5;241m%\u001b[39m (\u001b[38;5;28mcls\u001b[39m\u001b[38;5;241m.\u001b[39m\u001b[38;5;18m__name__\u001b[39m, \u001b[38;5;28mtype\u001b[39m(\u001b[38;5;28mcls\u001b[39m\u001b[38;5;241m.\u001b[39m_instance)\u001b[38;5;241m.\u001b[39m\u001b[38;5;18m__name__\u001b[39m)\n\u001b[1;32m    563\u001b[0m     )\n",
      "\u001b[0;31mMultipleInstanceError\u001b[0m: An incompatible sibling of 'TerminalIPythonApp' is already instanciated as singleton: IPKernelApp"
     ]
    }
   ],
   "source": [
    "# start ipython kernel\n",
    "import IPython\n",
    "\n",
    "IPython.start_ipython(argv=[f'-f {conn_file}'])"
   ]
  },
  {
   "cell_type": "code",
   "execution_count": null,
   "id": "552dc1a9",
   "metadata": {},
   "outputs": [],
   "source": [
    "\n",
    "\n",
    "# start IPython kernel\n",
    "#ipython kernel -f=$CONN_FILE 2>&1 &\n",
    "#jupyter kernel --KernelManager.connection_file=$CONN_FILE &\n",
    "ipython kernel -f=$CONN_FILE &\n",
    "\n",
    "# return back job id\n",
    "PID=$!\n",
    "\n",
    "# DOCKER specific\n",
    "# wait for file to be created\n",
    "watch -g -t -n 0.1 \"ls $CONN_FILE\"\n",
    "\n",
    "# replace IP to access host from docker\n",
    "cp $CONN_FILE $DEBUG_CONN_FILE\n",
    "LC_ALL=C sed -i '' -e 's/127.0.0.1/host.docker.internal/g' $CONN_FILE\n",
    "\n",
    "echo \">> START SHINY\"\n",
    "\n",
    "# remove previous processes that might have failed\n",
    "# TODO a bit drastic and would kill everything listening\n",
    "# on port 6860\n",
    "lsof -t -iTCP:6860 -sTCP:LISTEN | xargs kill -9\n",
    "\n",
    "# start docker\n",
    "export JUPYTER_LIB_DIR=\"${DIR_NAME}/datashare/\"\n",
    "\n",
    "# build will update the app if changed\n",
    "docker compose up --build\n",
    "\n",
    "# kill python\n",
    "kill $PID\n"
   ]
  }
 ],
 "metadata": {
  "kernelspec": {
   "display_name": "Python 3 (ipykernel)",
   "language": "python",
   "name": "python3"
  },
  "language_info": {
   "codemirror_mode": {
    "name": "ipython",
    "version": 3
   },
   "file_extension": ".py",
   "mimetype": "text/x-python",
   "name": "python",
   "nbconvert_exporter": "python",
   "pygments_lexer": "ipython3",
   "version": "3.9.14"
  }
 },
 "nbformat": 4,
 "nbformat_minor": 5
}
